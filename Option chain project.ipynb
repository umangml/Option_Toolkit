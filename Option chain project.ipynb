{
 "cells": [
  {
   "cell_type": "code",
   "execution_count": 7,
   "id": "cae155bc",
   "metadata": {},
   "outputs": [],
   "source": [
    "import pandas as pd\n",
    "import numpy as np\n",
    "import scipy.stats as st\n",
    "import plotly.graph_objects as go\n",
    "import plotly.express as px\n",
    "import sympy\n",
    "import warnings\n",
    "from pynse import *\n",
    "warnings.filterwarnings(\"ignore\")\n",
    "nse = Nse()"
   ]
  },
  {
   "cell_type": "code",
   "execution_count": null,
   "id": "b6ddc183",
   "metadata": {},
   "outputs": [],
   "source": [
    "pd.set_option(\"display.max_rows\",150)"
   ]
  },
  {
   "cell_type": "code",
   "execution_count": null,
   "id": "aa9349ee",
   "metadata": {},
   "outputs": [],
   "source": [
    "def bs_call(price, strike,t_exp,vol):\n",
    "    vol = vol/100\n",
    "    t_exp = t_exp / 365\n",
    "    d1= ((np.log(price/strike) + ( 0.1 + (vol**2)/2 )*t_exp)) / (vol * np.sqrt(t_exp))\n",
    "    d2= (np.log(price/strike) + (0.1 - ((vol**2)/2))*t_exp) / (vol * np.sqrt(t_exp))\n",
    "#     print(d2,d1-vol*np.sqrt(t_exp))\n",
    "    return ((price* st.norm.cdf(d1)) - strike* np.exp(-0.1*t_exp)*st.norm.cdf(d2))\n",
    "\n",
    "def bs_put(price, strike,t_exp,vol):\n",
    "    vol = vol/100\n",
    "    t_exp = t_exp / 365\n",
    "    d1= ((np.log(price/strike) + ( 0.1 + (vol**2)/2 )*t_exp)) / (vol * np.sqrt(t_exp))\n",
    "    d2= (np.log(price/strike) + (0.1 - ((vol**2)/2))*t_exp) / (vol * np.sqrt(t_exp))\n",
    "#     print(d2,d1-vol*np.sqrt(t_exp))\n",
    "    return ((-price* st.norm.cdf(-d1))+strike* np.exp(-0.1*t_exp)*st.norm.cdf(-d2))\n",
    "\n",
    "def bs_call_delta(price,strike,t_exp,vol):\n",
    "    t_exp = t_exp/356\n",
    "    vol = vol/100\n",
    "    d1= ((np.log(price/strike) + ( 0.1 + (vol**2)/2 )*t_exp)) / (vol * np.sqrt(t_exp))\n",
    "    return st.norm.cdf(d1)\n",
    "\n",
    "def bs_put_delta(price,strike,t_exp,vol):\n",
    "    t_exp = t_exp/356\n",
    "    vol = vol/100\n",
    "    d1= ((np.log(price/strike) + ( 0.1 + (vol**2)/2 )*t_exp)) / (vol * np.sqrt(t_exp))\n",
    "    return st.norm.cdf(d1) - 1 \n",
    "\n",
    "def bs_call_theta(price,strike,t_exp,vol):\n",
    "    vol = vol/100\n",
    "    t_exp= t_exp / 365\n",
    "    d1= float(((np.log(price/strike) + ( 0.1 + (vol**2)/2 )*t_exp)) / (vol * np.sqrt(t_exp)))\n",
    "    d2= float((np.log(price/strike) + (0.1 - ((vol**2)/2))*t_exp) / (vol * np.sqrt(t_exp)))\n",
    "    ndx = lambda x: (1/ np.sqrt(2*np.pi))  * (np.exp(- (x**2 /2)))\n",
    "    return -(price * ndx(d1) * vol) / (2*np.sqrt(t_exp))  -  (0.1*strike*np.exp(-0.1*t_exp)*st.norm.cdf(d2))\n",
    "\n",
    "def bs_put_theta(price,strike,t_exp,vol):\n",
    "    vol = vol/100\n",
    "    t_exp= t_exp / 365\n",
    "    d1= ((np.log(price/strike) + ( 0.1 + (vol**2)/2 )*t_exp)) / (vol * np.sqrt(t_exp))\n",
    "    d2= (np.log(price/strike) + (0.1 - ((vol**2)/2))*t_exp) / (vol * np.sqrt(t_exp))\n",
    "    ndx = lambda x: (1/ np.sqrt(2*np.pi))  * (np.exp(- (x**2 /2)))\n",
    "    return -(price * ndx(d1) * vol) / (2*np.sqrt(t_exp))  +  (0.1*strike*np.exp(-0.1*t_exp)*st.norm.cdf(d2))\n",
    "def bs_gamma(price,strike,t_exp,vol):\n",
    "    vol =vol/100\n",
    "    t_exp = t_exp/365\n",
    "    ndx = lambda x: (1/ np.sqrt(2*np.pi))  * (np.exp(- (x**2 /2)))\n",
    "    d1= ((np.log(price/strike) + ( 0.1 + (vol**2)/2 )*t_exp)) / (vol * np.sqrt(t_exp))\n",
    "    return ndx(d1) / (price*vol*np.sqrt(t_exp))\n",
    "def bs_vega(price,strike,t_exp,vol):\n",
    "    vol =vol/100\n",
    "    t_exp = t_exp/365\n",
    "    d1= ((np.log(price/strike) + ( 0.1 + (vol**2)/2 )*t_exp)) / (vol * np.sqrt(t_exp))\n",
    "    ndx = lambda x: (1/ np.sqrt(2*np.pi))  * (np.exp(- (x**2 /2)))\n",
    "    return price*np.sqrt(t_exp)*ndx(d1)\n",
    "    \n",
    "def inverter(z,l = [float(0.001),1]):\n",
    "    if z(l[0]) == 0:\n",
    "        return l[0]\n",
    "    if z(l[1]) == 0:\n",
    "        return l[1]\n",
    "    if (l[1] -l[0]) < float (0.001):\n",
    "#         print(*l)\n",
    "        return  (float((l[0]+l[1]) /2))\n",
    "    mid = float(l[0]+(l[1] - l[0])/2 )\n",
    "    if z(mid) < 0 :\n",
    "        l[0] = mid\n",
    "        return float(inverter(z,l))\n",
    "    if z(mid) > 0 :\n",
    "        l[1] = mid\n",
    "        return float(inverter(z,l))\n",
    "    \n",
    "def bs_call_iv (price,strike,t_exp,ce_price):\n",
    "    t_exp = float(t_exp/356)\n",
    "    vol_f = lambda vol: ((price* st.norm.cdf(float((np.log(price/strike) + ( 0.1 + ((vol**2)/2) )*t_exp)) / (vol * np.sqrt(t_exp)))) - strike* np.exp(-0.1*t_exp)*st.norm.cdf((np.log(price/strike) + (0.1 - ((vol**2)/2))*t_exp) / (vol * np.sqrt(t_exp)))) - (ce_price) \n",
    "    return inverter(vol_f) * 100"
   ]
  },
  {
   "cell_type": "markdown",
   "id": "3c7b6445",
   "metadata": {},
   "source": [
    "Testing above function"
   ]
  },
  {
   "cell_type": "code",
   "execution_count": null,
   "id": "80682d22",
   "metadata": {},
   "outputs": [],
   "source": [
    "bs_call(410,405,26,60)"
   ]
  },
  {
   "cell_type": "code",
   "execution_count": null,
   "id": "69a8ced1",
   "metadata": {},
   "outputs": [],
   "source": [
    "bs_call_iv(410,405,26,30.04050)"
   ]
  },
  {
   "cell_type": "code",
   "execution_count": null,
   "id": "65530e1b",
   "metadata": {},
   "outputs": [],
   "source": [
    "nse.expiry_lisy()"
   ]
  },
  {
   "cell_type": "code",
   "execution_count": null,
   "id": "f07803c1",
   "metadata": {},
   "outputs": [],
   "source": [
    "exp = nse.expiry_list[0]"
   ]
  },
  {
   "cell_type": "code",
   "execution_count": null,
   "id": "c0e06b8b",
   "metadata": {},
   "outputs": [],
   "source": [
    "nse.option_chain(\"NIFTY\",exp)"
   ]
  },
  {
   "cell_type": "code",
   "execution_count": null,
   "id": "43b66d52",
   "metadata": {},
   "outputs": [],
   "source": [
    "# %%timeit\n",
    "\n",
    "df = nse.option_chain(\"NIFTY\",expiry= exp)"
   ]
  },
  {
   "cell_type": "code",
   "execution_count": null,
   "id": "dac2a560",
   "metadata": {},
   "outputs": [],
   "source": [
    "df.columns = df.columns.str.lower().str.replace(\".\",\"_\")"
   ]
  },
  {
   "cell_type": "code",
   "execution_count": null,
   "id": "45b2b0b4",
   "metadata": {},
   "outputs": [],
   "source": [
    "arr_df = df[['pe_openinterest','pe_changeinopeninterest','pe_impliedvolatility','pe_lastprice','pe_change','pe_bidqty','pe_bidprice','pe_askprice',\n",
    "   'pe_askqty','strikeprice','ce_bidqty', 'ce_bidprice','ce_askprice','ce_change','ce_lastprice','ce_impliedvolatility','ce_changeinopeninterest','ce_openinterest'\n",
    "   ]]"
   ]
  },
  {
   "cell_type": "code",
   "execution_count": null,
   "id": "8b825245",
   "metadata": {},
   "outputs": [],
   "source": [
    "arr_df.columns"
   ]
  },
  {
   "cell_type": "code",
   "execution_count": null,
   "id": "7b98b4e8",
   "metadata": {},
   "outputs": [],
   "source": [
    "fut_ltp = nse.get_quote(\"NIFTY\", segment = Segment.FUT)[\"lastPrice\"]"
   ]
  },
  {
   "cell_type": "code",
   "execution_count": null,
   "id": "f749f72a",
   "metadata": {},
   "outputs": [],
   "source": [
    "arr_df = arr_df.loc[(arr_df['strikeprice']>(fut_ltp - fut_ltp*0.03)) & (arr_df['strikeprice']<(fut_ltp + fut_ltp*0.03)) ]\n",
    "# days_exp = (nse.expiry_list[0] - dt.datetime.now().date()).days\n",
    "print(fut_ltp)"
   ]
  },
  {
   "cell_type": "code",
   "execution_count": null,
   "id": "10cf8182",
   "metadata": {},
   "outputs": [],
   "source": [
    "def syn_fut(inst,exp):\n",
    "    op_chain = nse.option_chain(inst,exp)\n",
    "    op_chain.index  = op_chain[\"strikePrice\"]\n",
    "    mon_fut  = nse.get_quote(\"NIFTY\", segment = Segment.FUT)[\"lastPrice\"]\n",
    "    strk = round(mon_fut/50)*50\n",
    "    return strk + op_chain[\"CE.lastPrice\"][strk] - op_chain[\"PE.lastPrice\"][strk] "
   ]
  },
  {
   "cell_type": "code",
   "execution_count": null,
   "id": "5cffc8f3",
   "metadata": {},
   "outputs": [],
   "source": [
    "syn_fut(\"NIFTY\",dt.date(2022,6,2))"
   ]
  },
  {
   "cell_type": "code",
   "execution_count": null,
   "id": "2d0fcd26",
   "metadata": {},
   "outputs": [],
   "source": [
    "t_exp = (exp - dt.datetime.now().date()).days\n",
    "syn_futr = syn_fut(\"NIFTY\",exp)\n",
    "\n",
    "arr_df[\"Delta_call\"] = arr_df.apply(lambda row: bs_call_delta(syn_futr,row[\"strikeprice\"],t_exp,row['ce_impliedvolatility']), axis = 1)\n",
    "arr_df[\"Delta_put\"] = arr_df.apply(lambda row: bs_put_delta(syn_futr,row[\"strikeprice\"],t_exp,row['pe_impliedvolatility']), axis = 1)\n",
    "\n",
    "arr_df[\"Gamma_call\"] =arr_df.apply(lambda row: bs_gamma(syn_futr,row[\"strikeprice\"],t_exp,row['ce_impliedvolatility']), axis= 1)\n",
    "arr_df[\"Gamma_put\"] =arr_df.apply(lambda row: bs_gamma(syn_futr,row[\"strikeprice\"],t_exp,row['pe_impliedvolatility']), axis= 1)\n",
    "\n",
    "arr_df['Theta_call']=arr_df.apply(lambda row: bs_call_theta(syn_futr,row[\"strikeprice\"],t_exp,row['ce_impliedvolatility']) / 365, axis= 1 )\n",
    "arr_df['Theta_put']=arr_df.apply(lambda row: bs_put_theta(syn_futr,row[\"strikeprice\"],t_exp,row['pe_impliedvolatility']) / 365, axis= 1 )\n",
    "\n",
    "arr_df['Vega_call'] = arr_df.apply(lambda row:bs_vega(syn_futr,row['strikeprice'], t_exp,row['ce_impliedvolatility']), axis = 1)\n",
    "arr_df['Vega_put'] = arr_df.apply(lambda row:bs_vega(syn_futr,row['strikeprice'], t_exp,row['pe_impliedvolatility']), axis = 1)"
   ]
  },
  {
   "cell_type": "code",
   "execution_count": null,
   "id": "1225935a",
   "metadata": {},
   "outputs": [],
   "source": [
    "req_columns = ['Delta_call','Gamma_call','Theta_call','Vega_call','ce_lastprice','ce_bidprice', 'ce_askprice',\n",
    "    'strikeprice','pe_bidprice', 'pe_askprice','Delta_put','Gamma_put','Theta_put','Vega_put']"
   ]
  },
  {
   "cell_type": "code",
   "execution_count": null,
   "id": "4f233c3e",
   "metadata": {},
   "outputs": [],
   "source": [
    "arr_df[req_columns]"
   ]
  }
 ],
 "metadata": {
  "kernelspec": {
   "display_name": "Python 3",
   "language": "python",
   "name": "python3"
  },
  "language_info": {
   "codemirror_mode": {
    "name": "ipython",
    "version": 3
   },
   "file_extension": ".py",
   "mimetype": "text/x-python",
   "name": "python",
   "nbconvert_exporter": "python",
   "pygments_lexer": "ipython3",
   "version": "3.9.2"
  }
 },
 "nbformat": 4,
 "nbformat_minor": 5
}
